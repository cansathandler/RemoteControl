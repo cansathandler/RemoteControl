{
 "cells": [
  {
   "cell_type": "code",
   "execution_count": 1,
   "metadata": {},
   "outputs": [
    {
     "data": {
      "text/plain": [
       "('USB0::0x05E6::0x6500::04537333::INSTR', 'ASRL10::INSTR')"
      ]
     },
     "execution_count": 1,
     "metadata": {},
     "output_type": "execute_result"
    }
   ],
   "source": [
    "import pyvisa\n",
    "import time\n",
    "import schedule\n",
    "import pandas as pd\n",
    "import serial.tools.list_ports\n",
    "import os\n",
    "\n",
    "Port_Arduino = 'COM10'\n",
    "\n",
    "# Destination folder and file path\n",
    "folder_path = \"C:\\\\Users\\\\kary\\\\Documents\\\\9_data\\\\IEAP\\\\\"\n",
    "file_path = os.path.join(folder_path, \"voltage_data.csv\")\n",
    "\n",
    "#Create Resource manager instance\n",
    "rm = pyvisa.ResourceManager()\n",
    "#Check the VISA device\n",
    "rm.list_resources()"
   ]
  },
  {
   "cell_type": "code",
   "execution_count": 2,
   "metadata": {},
   "outputs": [
    {
     "name": "stdout",
     "output_type": "stream",
     "text": [
      "KEITHLEY INSTRUMENTS,MODEL DMM6500,04537333,1.7.11b\n",
      "\n"
     ]
    }
   ],
   "source": [
    "# Start the communication by VISA identifying resource name\n",
    "dmm = rm.open_resource('USB0::0x05E6::0x6500::04537333::INSTR')\n",
    "\n",
    "#Checking the machine name\n",
    "print(dmm.query('*IDN?'))"
   ]
  },
  {
   "cell_type": "code",
   "execution_count": 3,
   "metadata": {},
   "outputs": [],
   "source": [
    "def add_row(df, row_data):\n",
    "    \"\"\"データフレームに新しい行を追加\"\"\"\n",
    "    df_length = len(df)\n",
    "    df.loc[df_length] = row_data\n",
    "    return df"
   ]
  },
  {
   "cell_type": "code",
   "execution_count": 4,
   "metadata": {},
   "outputs": [],
   "source": [
    "def df_add_read_data(df, dmm, total_read_time, sample_period):\n",
    "    # DMMの設定\n",
    "    buffer_name = \"buffer\"\n",
    "    buffer_size = 10000\n",
    "    units = \"VOLT\"\n",
    "    display_digits = 3\n",
    "\n",
    "    # バッファを作成\n",
    "    dmm.write(f':TRAC:MAKE \"{buffer_name}\", {buffer_size}, WRITable')\n",
    "    \n",
    "    # データフォーマットを設定\n",
    "    dmm.write(f':TRAC:WRIT:FORM \"{buffer_name}\", {units}, {display_digits}')\n",
    "    \n",
    "    # 測定時間の初期化\n",
    "    start_time = time.perf_counter()\n",
    "    end_time = time.perf_counter()\n",
    "\n",
    "    while end_time - start_time < total_read_time:\n",
    "        each_start_time = time.perf_counter()\n",
    "        \n",
    "        # 測定データをバッファに書き込む\n",
    "        dmm.write(':INIT')\n",
    "        dmm.write(f':TRAC:WRIT:READ \"{buffer_name}\", 1')\n",
    "        \n",
    "        # バッファからデータを読み取る\n",
    "        try:\n",
    "            read_data = float(dmm.query(':TRAC:DATA? 1, 1, \"{buffer_name}\", read'))\n",
    "        except pyvisa.errors.VisaIOError as e:\n",
    "            print(f\"Error reading data: {e}\")\n",
    "            break\n",
    "        each_end_time = time.perf_counter()\n",
    "        \n",
    "        # サンプル周期になるまで待機\n",
    "        while each_end_time - each_start_time <= sample_period:\n",
    "            each_end_time = time.perf_counter()\n",
    "\n",
    "        df = add_row(df, [each_end_time - start_time, read_data])\n",
    "        end_time = time.perf_counter()\n",
    "\n",
    "    return df"
   ]
  },
  {
   "cell_type": "code",
   "execution_count": 5,
   "metadata": {},
   "outputs": [
    {
     "name": "stdout",
     "output_type": "stream",
     "text": [
      "Error reading data: VI_ERROR_TMO (-1073807339): Timeout expired before operation completed.\n"
     ]
    },
    {
     "data": {
      "text/html": [
       "<div>\n",
       "<style scoped>\n",
       "    .dataframe tbody tr th:only-of-type {\n",
       "        vertical-align: middle;\n",
       "    }\n",
       "\n",
       "    .dataframe tbody tr th {\n",
       "        vertical-align: top;\n",
       "    }\n",
       "\n",
       "    .dataframe thead th {\n",
       "        text-align: right;\n",
       "    }\n",
       "</style>\n",
       "<table border=\"1\" class=\"dataframe\">\n",
       "  <thead>\n",
       "    <tr style=\"text-align: right;\">\n",
       "      <th></th>\n",
       "      <th>Time[s]</th>\n",
       "      <th>Measured_Voltage[V]</th>\n",
       "    </tr>\n",
       "  </thead>\n",
       "  <tbody>\n",
       "  </tbody>\n",
       "</table>\n",
       "</div>"
      ],
      "text/plain": [
       "Empty DataFrame\n",
       "Columns: [Time[s], Measured_Voltage[V]]\n",
       "Index: []"
      ]
     },
     "execution_count": 5,
     "metadata": {},
     "output_type": "execute_result"
    }
   ],
   "source": [
    "columns = [\"Time[s]\",\"Measured_Voltage[V]\"]\n",
    "df_voltage = pd.DataFrame(columns=columns)\n",
    "\n",
    "position = 0\n",
    "read_time = 1 # sec\n",
    "freq = 0.001\n",
    "df_voltage = df_add_read_data(df_voltage,dmm,read_time,freq)\n",
    "df_voltage"
   ]
  },
  {
   "cell_type": "code",
   "execution_count": null,
   "metadata": {},
   "outputs": [],
   "source": []
  },
  {
   "cell_type": "code",
   "execution_count": 9,
   "metadata": {},
   "outputs": [
    {
     "name": "stdout",
     "output_type": "stream",
     "text": [
      "1.000000E+00\n",
      "\n"
     ]
    }
   ],
   "source": [
    "# バッファを作成する\n",
    "buffer_name = \"buffer4\"\n",
    "buffer_size = 1000\n",
    "dmm.write(f':TRAC:MAKE \"{buffer_name}\", {buffer_size}, WRITable')\n",
    "\n",
    "# データのフォーマットを設定する\n",
    "dmm.write(f':TRAC:WRIT:FORM \"{buffer_name}\", VOLT, 3')\n",
    "\n",
    "# データをバッファに書き込む\n",
    "dmm.write(f':TRAC:WRIT:READ \"{buffer_name}\", 1')\n",
    "\n",
    "# バッファからデータを読み取る\n",
    "read_data = dmm.query(f':TRAC:DATA? 1, 1, \"{buffer_name}\", read')\n",
    "print(read_data)\n"
   ]
  },
  {
   "cell_type": "code",
   "execution_count": null,
   "metadata": {},
   "outputs": [],
   "source": []
  },
  {
   "cell_type": "code",
   "execution_count": null,
   "metadata": {},
   "outputs": [],
   "source": []
  }
 ],
 "metadata": {
  "kernelspec": {
   "display_name": "Python 3",
   "language": "python",
   "name": "python3"
  },
  "language_info": {
   "codemirror_mode": {
    "name": "ipython",
    "version": 3
   },
   "file_extension": ".py",
   "mimetype": "text/x-python",
   "name": "python",
   "nbconvert_exporter": "python",
   "pygments_lexer": "ipython3",
   "version": "3.11.9"
  }
 },
 "nbformat": 4,
 "nbformat_minor": 2
}
