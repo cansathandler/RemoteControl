{
 "cells": [
  {
   "cell_type": "code",
   "execution_count": 1,
   "metadata": {},
   "outputs": [
    {
     "data": {
      "text/plain": [
       "('USB0::0x05E6::0x6500::04537333::INSTR', 'ASRL10::INSTR')"
      ]
     },
     "execution_count": 1,
     "metadata": {},
     "output_type": "execute_result"
    }
   ],
   "source": [
    "import pyvisa\n",
    "import time\n",
    "import schedule\n",
    "import pandas as pd\n",
    "import serial.tools.list_ports\n",
    "import os\n",
    "\n",
    "Port_Arduino = 'COM10'\n",
    "\n",
    "# Destination folder and file path\n",
    "folder_path = \"C:\\\\Users\\\\kary\\\\Documents\\\\9_data\\\\IEAP\\\\\"\n",
    "file_path = os.path.join(folder_path, \"voltage_data.csv\")\n",
    "\n",
    "#Create Resource manager instance\n",
    "rm = pyvisa.ResourceManager()\n",
    "#Check the VISA device\n",
    "rm.list_resources()"
   ]
  },
  {
   "cell_type": "code",
   "execution_count": 2,
   "metadata": {},
   "outputs": [
    {
     "name": "stdout",
     "output_type": "stream",
     "text": [
      "KEITHLEY INSTRUMENTS,MODEL DMM6500,04537333,1.7.11b\n",
      "\n"
     ]
    }
   ],
   "source": [
    "# Start the communication by VISA identifying resource name\n",
    "dmm = rm.open_resource('USB0::0x05E6::0x6500::04537333::INSTR')\n",
    "\n",
    "#Checking the machine name\n",
    "print(dmm.query('*IDN?'))"
   ]
  },
  {
   "cell_type": "code",
   "execution_count": 11,
   "metadata": {},
   "outputs": [
    {
     "data": {
      "text/plain": [
       "27"
      ]
     },
     "execution_count": 11,
     "metadata": {},
     "output_type": "execute_result"
    }
   ],
   "source": [
    "dmm.write('*RST')\n",
    "dmm.write(':DISPlay:VOLTage:DIGits 3')"
   ]
  },
  {
   "cell_type": "code",
   "execution_count": 12,
   "metadata": {},
   "outputs": [
    {
     "name": "stdout",
     "output_type": "stream",
     "text": [
      "Serial port opened successfully.\n"
     ]
    }
   ],
   "source": [
    "# Portrate setting\n",
    "baudrate = 115200\n",
    "\n",
    "if Port_Arduino is None:\n",
    "    print(\"Selected COM port not found.\")\n",
    "else:\n",
    "    # Make serial port instance\n",
    "    try:\n",
    "        seriallInst = serial.Serial(Port_Arduino, baudrate, timeout=1) \n",
    "        print(\"Serial port opened successfully.\")\n",
    "    except serial.SerialException as e:\n",
    "        print(f\"Error opening serial port: {e}\")\n",
    "        exit()"
   ]
  },
  {
   "cell_type": "markdown",
   "metadata": {},
   "source": [
    "### Without Position"
   ]
  },
  {
   "cell_type": "code",
   "execution_count": 8,
   "metadata": {},
   "outputs": [],
   "source": [
    "#列を2つもつデータフレームに新しい行を追加する\n",
    "def add_row(df,row):\n",
    "    new_row = pd.Series({df.columns[0]:row[0],df.columns[1]:row[1]}).to_frame().T\n",
    "    return  pd.concat([df,new_row],ignore_index = True)"
   ]
  },
  {
   "cell_type": "code",
   "execution_count": 9,
   "metadata": {},
   "outputs": [],
   "source": [
    "#データフレーム、マルチメータ、合計測定時間、サンプル周期\n",
    "def df_add_read_data(df,mul,total_read_time,sample_period):\n",
    "    #測定時間の初期化\n",
    "    start_time =  time.perf_counter()\n",
    "    end_time = time.perf_counter()\n",
    "    while end_time - start_time < total_read_time:\n",
    "        each_start_time =  time.perf_counter()\n",
    "        read_data = float(mul.query(\"READ?;\"))\n",
    "        each_end_time = time.perf_counter()\n",
    "        #サンプル周期になるまで待機\n",
    "        while  each_end_time - each_start_time <= sample_period:\n",
    "            each_end_time = time.perf_counter()\n",
    "\n",
    "        df = add_row(df,[each_end_time - start_time ,read_data])\n",
    "        end_time = time.perf_counter()\n",
    "    return df"
   ]
  },
  {
   "cell_type": "code",
   "execution_count": 10,
   "metadata": {},
   "outputs": [
    {
     "name": "stderr",
     "output_type": "stream",
     "text": [
      "C:\\Users\\kary\\AppData\\Local\\Temp\\ipykernel_15788\\3162089667.py:4: FutureWarning: The behavior of DataFrame concatenation with empty or all-NA entries is deprecated. In a future version, this will no longer exclude empty or all-NA columns when determining the result dtypes. To retain the old behavior, exclude the relevant entries before the concat operation.\n",
      "  return  pd.concat([df,new_row],ignore_index = True)\n"
     ]
    },
    {
     "data": {
      "text/html": [
       "<div>\n",
       "<style scoped>\n",
       "    .dataframe tbody tr th:only-of-type {\n",
       "        vertical-align: middle;\n",
       "    }\n",
       "\n",
       "    .dataframe tbody tr th {\n",
       "        vertical-align: top;\n",
       "    }\n",
       "\n",
       "    .dataframe thead th {\n",
       "        text-align: right;\n",
       "    }\n",
       "</style>\n",
       "<table border=\"1\" class=\"dataframe\">\n",
       "  <thead>\n",
       "    <tr style=\"text-align: right;\">\n",
       "      <th></th>\n",
       "      <th>Time[s]</th>\n",
       "      <th>Measured_Voltage[V]</th>\n",
       "    </tr>\n",
       "  </thead>\n",
       "  <tbody>\n",
       "    <tr>\n",
       "      <th>0</th>\n",
       "      <td>0.110858</td>\n",
       "      <td>-0.000049</td>\n",
       "    </tr>\n",
       "    <tr>\n",
       "      <th>1</th>\n",
       "      <td>0.134779</td>\n",
       "      <td>-0.000046</td>\n",
       "    </tr>\n",
       "    <tr>\n",
       "      <th>2</th>\n",
       "      <td>0.157287</td>\n",
       "      <td>-0.000030</td>\n",
       "    </tr>\n",
       "    <tr>\n",
       "      <th>3</th>\n",
       "      <td>0.180116</td>\n",
       "      <td>-0.000052</td>\n",
       "    </tr>\n",
       "    <tr>\n",
       "      <th>4</th>\n",
       "      <td>0.224242</td>\n",
       "      <td>-0.000054</td>\n",
       "    </tr>\n",
       "    <tr>\n",
       "      <th>...</th>\n",
       "      <td>...</td>\n",
       "      <td>...</td>\n",
       "    </tr>\n",
       "    <tr>\n",
       "      <th>180</th>\n",
       "      <td>4.898977</td>\n",
       "      <td>-0.000082</td>\n",
       "    </tr>\n",
       "    <tr>\n",
       "      <th>181</th>\n",
       "      <td>4.921495</td>\n",
       "      <td>-0.000099</td>\n",
       "    </tr>\n",
       "    <tr>\n",
       "      <th>182</th>\n",
       "      <td>4.943759</td>\n",
       "      <td>-0.000130</td>\n",
       "    </tr>\n",
       "    <tr>\n",
       "      <th>183</th>\n",
       "      <td>4.966664</td>\n",
       "      <td>-0.000069</td>\n",
       "    </tr>\n",
       "    <tr>\n",
       "      <th>184</th>\n",
       "      <td>5.010136</td>\n",
       "      <td>-0.000097</td>\n",
       "    </tr>\n",
       "  </tbody>\n",
       "</table>\n",
       "<p>185 rows × 2 columns</p>\n",
       "</div>"
      ],
      "text/plain": [
       "      Time[s]  Measured_Voltage[V]\n",
       "0    0.110858            -0.000049\n",
       "1    0.134779            -0.000046\n",
       "2    0.157287            -0.000030\n",
       "3    0.180116            -0.000052\n",
       "4    0.224242            -0.000054\n",
       "..        ...                  ...\n",
       "180  4.898977            -0.000082\n",
       "181  4.921495            -0.000099\n",
       "182  4.943759            -0.000130\n",
       "183  4.966664            -0.000069\n",
       "184  5.010136            -0.000097\n",
       "\n",
       "[185 rows x 2 columns]"
      ]
     },
     "execution_count": 10,
     "metadata": {},
     "output_type": "execute_result"
    }
   ],
   "source": [
    "columns = [\"Time[s]\",\"Measured_Voltage[V]\"]\n",
    "df_voltage = pd.DataFrame(columns=columns)\n",
    "\n",
    "position = 0\n",
    "read_time = 5 # sec\n",
    "freq = 0.001\n",
    "df_voltage = df_add_read_data(df_voltage,dmm,read_time,freq)\n",
    "df_voltage"
   ]
  },
  {
   "cell_type": "markdown",
   "metadata": {},
   "source": [
    "### Position"
   ]
  },
  {
   "cell_type": "code",
   "execution_count": 5,
   "metadata": {},
   "outputs": [],
   "source": [
    "#列を3つもつデータフレームに新しい行を追加する\n",
    "def add_row(df,row):\n",
    "    new_row = pd.Series({df.columns[0]:row[0],df.columns[1]:row[1],df.columns[2]:row[2]}).to_frame().T\n",
    "    return  pd.concat([df,new_row],ignore_index = True)"
   ]
  },
  {
   "cell_type": "code",
   "execution_count": 6,
   "metadata": {},
   "outputs": [],
   "source": [
    "#データフレーム、マルチメータ、合計測定時間、サンプル周期, position\n",
    "def df_add_read_data(df,mul,total_read_time,sample_period,position):\n",
    "    #測定時間の初期化\n",
    "    start_time =  time.perf_counter()\n",
    "    end_time = time.perf_counter()\n",
    "    while end_time - start_time < total_read_time:\n",
    "        each_start_time =  time.perf_counter()\n",
    "        read_data = float(mul.query(\"READ?;\"))\n",
    "        each_end_time = time.perf_counter()\n",
    "        #サンプル周期になるまで待機\n",
    "        while  each_end_time - each_start_time <= sample_period:\n",
    "            each_end_time = time.perf_counter()\n",
    "\n",
    "        #serial read from Arduino\n",
    "        position = seriallInst.readline().decode('utf-8').strip()\n",
    "        df = add_row(df,[each_end_time - start_time ,read_data, position])\n",
    "        end_time = time.perf_counter()\n",
    "    return df"
   ]
  },
  {
   "cell_type": "code",
   "execution_count": 7,
   "metadata": {},
   "outputs": [
    {
     "data": {
      "text/html": [
       "<div>\n",
       "<style scoped>\n",
       "    .dataframe tbody tr th:only-of-type {\n",
       "        vertical-align: middle;\n",
       "    }\n",
       "\n",
       "    .dataframe tbody tr th {\n",
       "        vertical-align: top;\n",
       "    }\n",
       "\n",
       "    .dataframe thead th {\n",
       "        text-align: right;\n",
       "    }\n",
       "</style>\n",
       "<table border=\"1\" class=\"dataframe\">\n",
       "  <thead>\n",
       "    <tr style=\"text-align: right;\">\n",
       "      <th></th>\n",
       "      <th>Time[s]</th>\n",
       "      <th>Measured_Voltage[V]</th>\n",
       "      <th>Position[mm]</th>\n",
       "    </tr>\n",
       "  </thead>\n",
       "  <tbody>\n",
       "    <tr>\n",
       "      <th>0</th>\n",
       "      <td>0.021795</td>\n",
       "      <td>-0.000086</td>\n",
       "      <td></td>\n",
       "    </tr>\n",
       "    <tr>\n",
       "      <th>1</th>\n",
       "      <td>1.047146</td>\n",
       "      <td>-0.000091</td>\n",
       "      <td></td>\n",
       "    </tr>\n",
       "    <tr>\n",
       "      <th>2</th>\n",
       "      <td>2.078928</td>\n",
       "      <td>-0.000093</td>\n",
       "      <td></td>\n",
       "    </tr>\n",
       "    <tr>\n",
       "      <th>3</th>\n",
       "      <td>3.108717</td>\n",
       "      <td>-0.000051</td>\n",
       "      <td></td>\n",
       "    </tr>\n",
       "    <tr>\n",
       "      <th>4</th>\n",
       "      <td>4.141315</td>\n",
       "      <td>-0.000082</td>\n",
       "      <td></td>\n",
       "    </tr>\n",
       "  </tbody>\n",
       "</table>\n",
       "</div>"
      ],
      "text/plain": [
       "    Time[s] Measured_Voltage[V] Position[mm]\n",
       "0  0.021795           -0.000086             \n",
       "1  1.047146           -0.000091             \n",
       "2  2.078928           -0.000093             \n",
       "3  3.108717           -0.000051             \n",
       "4  4.141315           -0.000082             "
      ]
     },
     "execution_count": 7,
     "metadata": {},
     "output_type": "execute_result"
    }
   ],
   "source": [
    "columns = [\"Time[s]\",\"Measured_Voltage[V]\",\"Position[mm]\"]\n",
    "df_voltage = pd.DataFrame(columns=columns)\n",
    "\n",
    "position = 0\n",
    "read_time = 5 # sec\n",
    "freq = 0.001\n",
    "df_voltage = df_add_read_data(df_voltage,dmm,read_time,freq,position)\n",
    "df_voltage"
   ]
  },
  {
   "cell_type": "markdown",
   "metadata": {},
   "source": [
    "### Memo"
   ]
  },
  {
   "cell_type": "code",
   "execution_count": 6,
   "metadata": {},
   "outputs": [
    {
     "name": "stdout",
     "output_type": "stream",
     "text": [
      "-4.153531e-05\n"
     ]
    }
   ],
   "source": [
    "# Reset\n",
    "dmm.write('*RST')\n",
    "\n",
    "# Beep\n",
    "dmm.write(':SYSTEM:BEEPer 500, 1')\n",
    "\n",
    "# Zero\n",
    "dmm.write('FUNC \"VOLT\"')\n",
    "dmm.write('AZER:ONCE')\n",
    "\n",
    "# Voltage read setting\n",
    "dmm.write(':SENSe:FUNCtion \"VOLTage\"')\n",
    "\n",
    "# Set impedance\n",
    "dmm.write(':DIG:VOLT:RANG 100e-3') # select 100 mV range\n",
    "\n",
    "# Read Voltage\n",
    "print(float(dmm.query('Read?')))"
   ]
  },
  {
   "cell_type": "code",
   "execution_count": null,
   "metadata": {},
   "outputs": [],
   "source": []
  }
 ],
 "metadata": {
  "kernelspec": {
   "display_name": "Python 3",
   "language": "python",
   "name": "python3"
  },
  "language_info": {
   "codemirror_mode": {
    "name": "ipython",
    "version": 3
   },
   "file_extension": ".py",
   "mimetype": "text/x-python",
   "name": "python",
   "nbconvert_exporter": "python",
   "pygments_lexer": "ipython3",
   "version": "3.11.9"
  }
 },
 "nbformat": 4,
 "nbformat_minor": 2
}
