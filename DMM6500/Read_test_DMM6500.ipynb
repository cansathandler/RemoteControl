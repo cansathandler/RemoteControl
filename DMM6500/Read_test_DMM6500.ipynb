{
 "cells": [
  {
   "cell_type": "code",
   "execution_count": 1,
   "metadata": {},
   "outputs": [
    {
     "data": {
      "text/plain": [
       "('USB0::0x05E6::0x6500::04537333::INSTR', 'ASRL10::INSTR')"
      ]
     },
     "execution_count": 1,
     "metadata": {},
     "output_type": "execute_result"
    }
   ],
   "source": [
    "import pyvisa\n",
    "import time\n",
    "import schedule\n",
    "import pandas as pd\n",
    "import serial.tools.list_ports\n",
    "import os\n",
    "\n",
    "Port_Arduino = 'COM10'\n",
    "\n",
    "# Destination folder and file path\n",
    "folder_path = \"C:\\\\Users\\\\kary\\\\Documents\\\\9_data\\\\IEAP\\\\\"\n",
    "file_path = os.path.join(folder_path, \"voltage_data.csv\")\n",
    "\n",
    "#Create Resource manager instance\n",
    "rm = pyvisa.ResourceManager()\n",
    "#Check the VISA device\n",
    "rm.list_resources()"
   ]
  },
  {
   "cell_type": "code",
   "execution_count": 2,
   "metadata": {},
   "outputs": [
    {
     "name": "stdout",
     "output_type": "stream",
     "text": [
      "KEITHLEY INSTRUMENTS,MODEL DMM6500,04537333,1.7.11b\n",
      "\n"
     ]
    }
   ],
   "source": [
    "# Start the communication by VISA identifying resource name\n",
    "dmm = rm.open_resource('USB0::0x05E6::0x6500::04537333::INSTR')\n",
    "\n",
    "#Checking the machine name\n",
    "print(dmm.query('*IDN?'))"
   ]
  },
  {
   "cell_type": "code",
   "execution_count": 3,
   "metadata": {},
   "outputs": [
    {
     "data": {
      "text/plain": [
       "30"
      ]
     },
     "execution_count": 3,
     "metadata": {},
     "output_type": "execute_result"
    }
   ],
   "source": [
    "dmm.write('*RST')\n",
    "dmm.write(':DISPlay:VOLTage:DIGits 3')\n",
    "#dmm.write(\"SENS:FUNC 'VOLT:DC'\")\n",
    "dmm.write(\"SENS:FUNC 'VOLT:DC', (@1)\")\n",
    "dmm.write(\"SENS:FUNC 'RESistance', (@2)\")"
   ]
  },
  {
   "cell_type": "markdown",
   "metadata": {},
   "source": [
    "### With Position"
   ]
  },
  {
   "cell_type": "code",
   "execution_count": 4,
   "metadata": {},
   "outputs": [],
   "source": [
    "#列を5つもつデータフレームに新しい行を追加する\n",
    "def add_row(df,row):\n",
    "    new_row = pd.Series({df.columns[0]:row[0],df.columns[1]:row[1],df.columns[2]:row[2]}).to_frame().T   \n",
    "    # new_row = pd.Series({df.columns[0]:row[0],df.columns[1]:row[1],df.columns[2]:row[2],df.columns[3]:row[3],df.columns[4]:row[4],df.columns[5]:row[5]}).to_frame().T\n",
    "    return  pd.concat([df,new_row],ignore_index = True)"
   ]
  },
  {
   "cell_type": "code",
   "execution_count": 5,
   "metadata": {},
   "outputs": [],
   "source": [
    "#データフレーム、マルチメータ、合計測定時間、サンプル周期、印可電圧時間\n",
    "def df_add_read_data(df,mul,total_read_time,sample_period):\n",
    "    #測定時間の初期化\n",
    "    start_time =  time.perf_counter()\n",
    "    end_time = time.perf_counter()\n",
    "    while end_time - start_time < total_read_time:\n",
    "        each_start_time =  time.perf_counter()        \n",
    "        dmm.write(\"SENS:FUNC 'VOLT:DC', (@1)\")\n",
    "        data1 = float(mul.query(\"READ?\"))\n",
    "        dmm.write(\"SENS:FUNC 'VOLT:DC', (@2)\")\n",
    "        data2 = float(mul.query(\"READ?\"))\n",
    "        each_end_time = time.perf_counter()\n",
    "        #サンプル周期になるまで待機\n",
    "        while  each_end_time - each_start_time <= sample_period:\n",
    "            each_end_time = time.perf_counter()\n",
    "            \n",
    "        df = add_row(df,[each_end_time - start_time,data1,data2])\n",
    "        end_time = time.perf_counter()\n",
    "    return df"
   ]
  },
  {
   "cell_type": "markdown",
   "metadata": {},
   "source": [
    "#### Measure"
   ]
  },
  {
   "cell_type": "code",
   "execution_count": 6,
   "metadata": {},
   "outputs": [
    {
     "name": "stderr",
     "output_type": "stream",
     "text": [
      "C:\\Users\\kary\\AppData\\Local\\Temp\\ipykernel_6060\\1442998754.py:5: FutureWarning: The behavior of DataFrame concatenation with empty or all-NA entries is deprecated. In a future version, this will no longer exclude empty or all-NA columns when determining the result dtypes. To retain the old behavior, exclude the relevant entries before the concat operation.\n",
      "  return  pd.concat([df,new_row],ignore_index = True)\n"
     ]
    },
    {
     "data": {
      "text/html": [
       "<div>\n",
       "<style scoped>\n",
       "    .dataframe tbody tr th:only-of-type {\n",
       "        vertical-align: middle;\n",
       "    }\n",
       "\n",
       "    .dataframe tbody tr th {\n",
       "        vertical-align: top;\n",
       "    }\n",
       "\n",
       "    .dataframe thead th {\n",
       "        text-align: right;\n",
       "    }\n",
       "</style>\n",
       "<table border=\"1\" class=\"dataframe\">\n",
       "  <thead>\n",
       "    <tr style=\"text-align: right;\">\n",
       "      <th></th>\n",
       "      <th>Time[s]</th>\n",
       "      <th>Measured_Voltage[V]</th>\n",
       "      <th>Resistance[Ohm]</th>\n",
       "    </tr>\n",
       "  </thead>\n",
       "  <tbody>\n",
       "    <tr>\n",
       "      <th>0</th>\n",
       "      <td>0.131540</td>\n",
       "      <td>0.000009</td>\n",
       "      <td>-0.000004</td>\n",
       "    </tr>\n",
       "    <tr>\n",
       "      <th>1</th>\n",
       "      <td>0.175456</td>\n",
       "      <td>-0.000015</td>\n",
       "      <td>0.000016</td>\n",
       "    </tr>\n",
       "    <tr>\n",
       "      <th>2</th>\n",
       "      <td>0.239455</td>\n",
       "      <td>0.000061</td>\n",
       "      <td>0.000080</td>\n",
       "    </tr>\n",
       "    <tr>\n",
       "      <th>3</th>\n",
       "      <td>0.282598</td>\n",
       "      <td>0.000041</td>\n",
       "      <td>0.000044</td>\n",
       "    </tr>\n",
       "    <tr>\n",
       "      <th>4</th>\n",
       "      <td>0.348429</td>\n",
       "      <td>0.000075</td>\n",
       "      <td>0.000014</td>\n",
       "    </tr>\n",
       "    <tr>\n",
       "      <th>...</th>\n",
       "      <td>...</td>\n",
       "      <td>...</td>\n",
       "      <td>...</td>\n",
       "    </tr>\n",
       "    <tr>\n",
       "      <th>88</th>\n",
       "      <td>4.814450</td>\n",
       "      <td>-0.000035</td>\n",
       "      <td>-0.000070</td>\n",
       "    </tr>\n",
       "    <tr>\n",
       "      <th>89</th>\n",
       "      <td>4.880883</td>\n",
       "      <td>-0.000051</td>\n",
       "      <td>-0.000034</td>\n",
       "    </tr>\n",
       "    <tr>\n",
       "      <th>90</th>\n",
       "      <td>4.926733</td>\n",
       "      <td>0.000009</td>\n",
       "      <td>0.000007</td>\n",
       "    </tr>\n",
       "    <tr>\n",
       "      <th>91</th>\n",
       "      <td>4.972738</td>\n",
       "      <td>-0.000019</td>\n",
       "      <td>-0.000005</td>\n",
       "    </tr>\n",
       "    <tr>\n",
       "      <th>92</th>\n",
       "      <td>5.039630</td>\n",
       "      <td>-0.000042</td>\n",
       "      <td>-0.000008</td>\n",
       "    </tr>\n",
       "  </tbody>\n",
       "</table>\n",
       "<p>93 rows × 3 columns</p>\n",
       "</div>"
      ],
      "text/plain": [
       "     Time[s]  Measured_Voltage[V]  Resistance[Ohm]\n",
       "0   0.131540             0.000009        -0.000004\n",
       "1   0.175456            -0.000015         0.000016\n",
       "2   0.239455             0.000061         0.000080\n",
       "3   0.282598             0.000041         0.000044\n",
       "4   0.348429             0.000075         0.000014\n",
       "..       ...                  ...              ...\n",
       "88  4.814450            -0.000035        -0.000070\n",
       "89  4.880883            -0.000051        -0.000034\n",
       "90  4.926733             0.000009         0.000007\n",
       "91  4.972738            -0.000019        -0.000005\n",
       "92  5.039630            -0.000042        -0.000008\n",
       "\n",
       "[93 rows x 3 columns]"
      ]
     },
     "execution_count": 6,
     "metadata": {},
     "output_type": "execute_result"
    }
   ],
   "source": [
    "columns = [\"Time[s]\",\"Measured_Voltage[V]\",\"Resistance[Ohm]\"]\n",
    "df_voltage = pd.DataFrame(columns=columns)\n",
    "\n",
    "position = 0\n",
    "read_time = 5 # sec\n",
    "freq = 0.001\n",
    "df_voltage = df_add_read_data(df_voltage,dmm,read_time,freq)\n",
    "df_voltage"
   ]
  }
 ],
 "metadata": {
  "kernelspec": {
   "display_name": "Python 3",
   "language": "python",
   "name": "python3"
  },
  "language_info": {
   "codemirror_mode": {
    "name": "ipython",
    "version": 3
   },
   "file_extension": ".py",
   "mimetype": "text/x-python",
   "name": "python",
   "nbconvert_exporter": "python",
   "pygments_lexer": "ipython3",
   "version": "3.11.9"
  }
 },
 "nbformat": 4,
 "nbformat_minor": 2
}
