{
 "cells": [
  {
   "cell_type": "markdown",
   "metadata": {},
   "source": [
    "## Settings"
   ]
  },
  {
   "cell_type": "code",
   "execution_count": 1,
   "metadata": {},
   "outputs": [],
   "source": [
    "import os\n",
    "LoadCell_CH = 3 # Load Cell Supply Channel\n",
    "Magnet_CH = 2 # Soft Electromagnet Supply Channel\n",
    "\n",
    "# Destination folder and file path\n",
    "folder_path = \"C:\\\\Users\\\\kary\\\\Documents\\\\9_data\\\\SEMA\\\\\"\n",
    "file_path = os.path.join(folder_path, \"data.csv\")"
   ]
  },
  {
   "cell_type": "code",
   "execution_count": 2,
   "metadata": {},
   "outputs": [
    {
     "data": {
      "text/plain": [
       "('USB0::0x05E6::0x6500::04537333::INSTR',\n",
       " 'USB0::0x0B3E::0x102C::ES000390::INSTR',\n",
       " 'ASRL3::INSTR')"
      ]
     },
     "execution_count": 2,
     "metadata": {},
     "output_type": "execute_result"
    }
   ],
   "source": [
    "import pyvisa\n",
    "#Create Resource manager instance\n",
    "rm= pyvisa.ResourceManager()\n",
    "#Check the VISA device\n",
    "rm.list_resources()"
   ]
  },
  {
   "cell_type": "code",
   "execution_count": 3,
   "metadata": {},
   "outputs": [
    {
     "name": "stdout",
     "output_type": "stream",
     "text": [
      "KIKUSUI,PMX32-2QU,ES000390,VER01.04 BLD0035\n",
      "\n"
     ]
    }
   ],
   "source": [
    "# Start the communication by VISA identifying resource name\n",
    "pmx32 = rm.open_resource('USB0::0x0B3E::0x102C::ES000390::INSTR')\n",
    "\n",
    "#Checking the machine name\n",
    "print(pmx32.query('*IDN?'))"
   ]
  },
  {
   "cell_type": "markdown",
   "metadata": {},
   "source": [
    "### definition of function"
   ]
  },
  {
   "cell_type": "code",
   "execution_count": 4,
   "metadata": {},
   "outputs": [],
   "source": [
    "#通信インスタンスとチャンネルと電圧と電流を指定して出力オン\n",
    "def out_put_on(sps,ch,vol,cur):\n",
    "    sps.write(\"INST \" + str(ch) + \";*OPC?\")\n",
    "    sps.write(\"VOLTage \" + str(vol) + \";OPC?\")\n",
    "    sps.write(\"CURRent \" + str(cur) +\";OPC?\")\n",
    "    sps.write(\"OUTPut ON;OPC?\")\n",
    "    sps.write(\"INST:UNS \" + str(ch) + \"; *OPC?\")\n",
    "\n",
    "def out_put_on_only_V(sps,ch,vol):\n",
    "    sps.write(\"INST \" + str(ch) + \";*OPC?\")\n",
    "    sps.write(\"VOLTage \" + str(vol) + \";OPC?\")\n",
    "    sps.write(\"OUTPut ON;OPC?\")\n",
    "    sps.write(\"INST:UNS \" + str(ch) + \"; *OPC?\")\n",
    "\n",
    "#通信インスタンスとチャンネル番号を指定して出力オフ\n",
    "def out_put_off(sps,ch):\n",
    "    sps.write(\"INST \" + str(ch))\n",
    "    sps.write(\"OUTPut OFF; *OPC?\")\n",
    "    sps.write(\"INST:UNS \" + str(ch) + \"; *OPC?\")"
   ]
  },
  {
   "cell_type": "markdown",
   "metadata": {},
   "source": [
    "## DMM6500 multimeter setting"
   ]
  },
  {
   "cell_type": "code",
   "execution_count": 5,
   "metadata": {},
   "outputs": [
    {
     "data": {
      "text/plain": [
       "('USB0::0x05E6::0x6500::04537333::INSTR',\n",
       " 'USB0::0x0B3E::0x102C::ES000390::INSTR',\n",
       " 'ASRL3::INSTR')"
      ]
     },
     "execution_count": 5,
     "metadata": {},
     "output_type": "execute_result"
    }
   ],
   "source": [
    "import pyvisa\n",
    "import time\n",
    "import schedule\n",
    "import pandas as pd\n",
    "import serial.tools.list_ports\n",
    "\n",
    "#Create Resource manager instance\n",
    "rm = pyvisa.ResourceManager()\n",
    "#Check the VISA device\n",
    "rm.list_resources()"
   ]
  },
  {
   "cell_type": "code",
   "execution_count": 6,
   "metadata": {},
   "outputs": [
    {
     "name": "stdout",
     "output_type": "stream",
     "text": [
      "KEITHLEY INSTRUMENTS,MODEL DMM6500,04537333,1.7.11b\n",
      "\n"
     ]
    }
   ],
   "source": [
    "# Start the communication by VISA identifying resource name\n",
    "dmm = rm.open_resource('USB0::0x05E6::0x6500::04537333::INSTR')\n",
    "\n",
    "#Checking the machine name\n",
    "print(dmm.query('*IDN?'))"
   ]
  },
  {
   "cell_type": "code",
   "execution_count": 7,
   "metadata": {},
   "outputs": [
    {
     "data": {
      "text/plain": [
       "27"
      ]
     },
     "execution_count": 7,
     "metadata": {},
     "output_type": "execute_result"
    }
   ],
   "source": [
    "dmm.write('*RST')\n",
    "dmm.write(':DISPlay:VOLTage:DIGits 3')\n",
    "#dmm.write(\"SENS:FUNC 'VOLT:DC', (@1)\")\n",
    "#dmm.write(\"SENS:FUNC 'RES', (@6)\")\n",
    "#dmm.write(\"SENS:FUNC 'RES', (@7)\")"
   ]
  },
  {
   "cell_type": "markdown",
   "metadata": {},
   "source": [
    "### With Position"
   ]
  },
  {
   "cell_type": "code",
   "execution_count": null,
   "metadata": {},
   "outputs": [],
   "source": [
    "# Add Row in dataframe\n",
    "def add_row(df, row):\n",
    "    new_row = pd.DataFrame([row], columns=df.columns)\n",
    "    return pd.concat([df, new_row], ignore_index=True)"
   ]
  },
  {
   "cell_type": "code",
   "execution_count": null,
   "metadata": {},
   "outputs": [],
   "source": [
    "#Data Frame, Multimeter, DC power supply, Total Read time, Sample Period\n",
    "def df_add_read_data(df,mul,supply,total_read_time,sample_period):\n",
    "    #測定時間の初期化\n",
    "    start_time =  time.perf_counter()\n",
    "    end_time = time.perf_counter()\n",
    "    while end_time - start_time < total_read_time:\n",
    "        each_start_time =  time.perf_counter()        \n",
    "        dmm.write(\"SENS:FUNC 'VOLT:DC'\")\n",
    "#        dmm.write('ROUT:CLOS, (@1)')\n",
    "        data1 = float(mul.query(\"READ?\"))\n",
    "\n",
    "        data2 = supply.query('MEAS:CURRent? (@2)')  # Measure channel 2\n",
    "        data2_line = data2.splitlines()\n",
    "        for line in data2_line:\n",
    "            try:\n",
    "                current_ch2 = float(line)\n",
    "                break\n",
    "            except ValueError:\n",
    "                continue\n",
    "\n",
    "        data3 = supply.query('MEAS:VOLT? (@2)')  # Measure channel 2\n",
    "        data3_lines = data3.splitlines()\n",
    "        for line in data3_lines:\n",
    "            try:\n",
    "                current_ch2 = float(line)\n",
    "                break\n",
    "            except ValueError:\n",
    "                continue\n",
    "\n",
    "        each_end_time = time.perf_counter()\n",
    "        #サンプル周期になるまで待機\n",
    "        while  each_end_time - each_start_time <= sample_period:\n",
    "            each_end_time = time.perf_counter()\n",
    "            \n",
    "        df = add_row(df,[each_end_time - start_time,data1,data2,data3])\n",
    "        end_time = time.perf_counter()\n",
    "    return df"
   ]
  },
  {
   "cell_type": "code",
   "execution_count": null,
   "metadata": {},
   "outputs": [],
   "source": [
    "##Debug\n",
    "out_put_on(pmx32,LoadCell_CH,5.0,0.1)\n",
    "out_put_on(pmx32,Magnet_CH,0.5,0.2)"
   ]
  },
  {
   "cell_type": "markdown",
   "metadata": {},
   "source": [
    "#### Measure"
   ]
  },
  {
   "cell_type": "code",
   "execution_count": 11,
   "metadata": {},
   "outputs": [
    {
     "name": "stderr",
     "output_type": "stream",
     "text": [
      "C:\\Users\\kary\\AppData\\Local\\Temp\\ipykernel_25400\\1144875871.py:4: FutureWarning: The behavior of DataFrame concatenation with empty or all-NA entries is deprecated. In a future version, this will no longer exclude empty or all-NA columns when determining the result dtypes. To retain the old behavior, exclude the relevant entries before the concat operation.\n",
      "  return pd.concat([df, new_row], ignore_index=True)\n"
     ]
    },
    {
     "data": {
      "text/html": [
       "<div>\n",
       "<style scoped>\n",
       "    .dataframe tbody tr th:only-of-type {\n",
       "        vertical-align: middle;\n",
       "    }\n",
       "\n",
       "    .dataframe tbody tr th {\n",
       "        vertical-align: top;\n",
       "    }\n",
       "\n",
       "    .dataframe thead th {\n",
       "        text-align: right;\n",
       "    }\n",
       "</style>\n",
       "<table border=\"1\" class=\"dataframe\">\n",
       "  <thead>\n",
       "    <tr style=\"text-align: right;\">\n",
       "      <th></th>\n",
       "      <th>Time[s]</th>\n",
       "      <th>Measured_Voltage[V]</th>\n",
       "      <th>Supply_Current[A]</th>\n",
       "      <th>Supply_Voltage[V]</th>\n",
       "    </tr>\n",
       "  </thead>\n",
       "  <tbody>\n",
       "    <tr>\n",
       "      <th>0</th>\n",
       "      <td>0.114349</td>\n",
       "      <td>0.000095</td>\n",
       "      <td>+2.00500E-01\\n</td>\n",
       "      <td>+2.23300E-01\\n</td>\n",
       "    </tr>\n",
       "    <tr>\n",
       "      <th>1</th>\n",
       "      <td>0.142398</td>\n",
       "      <td>0.000095</td>\n",
       "      <td>+2.00500E-01\\n</td>\n",
       "      <td>+2.23800E-01\\n</td>\n",
       "    </tr>\n",
       "    <tr>\n",
       "      <th>2</th>\n",
       "      <td>0.168497</td>\n",
       "      <td>0.000096</td>\n",
       "      <td>+2.00500E-01\\n</td>\n",
       "      <td>+2.23800E-01\\n</td>\n",
       "    </tr>\n",
       "    <tr>\n",
       "      <th>3</th>\n",
       "      <td>0.195467</td>\n",
       "      <td>0.000095</td>\n",
       "      <td>+2.00400E-01\\n</td>\n",
       "      <td>+2.23800E-01\\n</td>\n",
       "    </tr>\n",
       "    <tr>\n",
       "      <th>4</th>\n",
       "      <td>0.243494</td>\n",
       "      <td>0.000095</td>\n",
       "      <td>+2.00400E-01\\n</td>\n",
       "      <td>+2.23800E-01\\n</td>\n",
       "    </tr>\n",
       "    <tr>\n",
       "      <th>...</th>\n",
       "      <td>...</td>\n",
       "      <td>...</td>\n",
       "      <td>...</td>\n",
       "      <td>...</td>\n",
       "    </tr>\n",
       "    <tr>\n",
       "      <th>156</th>\n",
       "      <td>4.877215</td>\n",
       "      <td>0.000096</td>\n",
       "      <td>+2.00400E-01\\n</td>\n",
       "      <td>+2.08800E-01\\n</td>\n",
       "    </tr>\n",
       "    <tr>\n",
       "      <th>157</th>\n",
       "      <td>4.905253</td>\n",
       "      <td>0.000096</td>\n",
       "      <td>+2.00500E-01\\n</td>\n",
       "      <td>+2.08800E-01\\n</td>\n",
       "    </tr>\n",
       "    <tr>\n",
       "      <th>158</th>\n",
       "      <td>4.930316</td>\n",
       "      <td>0.000095</td>\n",
       "      <td>+2.00500E-01\\n</td>\n",
       "      <td>+2.08800E-01\\n</td>\n",
       "    </tr>\n",
       "    <tr>\n",
       "      <th>159</th>\n",
       "      <td>4.976305</td>\n",
       "      <td>0.000095</td>\n",
       "      <td>+2.00500E-01\\n</td>\n",
       "      <td>+2.08800E-01\\n</td>\n",
       "    </tr>\n",
       "    <tr>\n",
       "      <th>160</th>\n",
       "      <td>5.005235</td>\n",
       "      <td>0.000095</td>\n",
       "      <td>+2.00500E-01\\n</td>\n",
       "      <td>+2.08800E-01\\n</td>\n",
       "    </tr>\n",
       "  </tbody>\n",
       "</table>\n",
       "<p>161 rows × 4 columns</p>\n",
       "</div>"
      ],
      "text/plain": [
       "      Time[s]  Measured_Voltage[V] Supply_Current[A] Supply_Voltage[V]\n",
       "0    0.114349             0.000095    +2.00500E-01\\n    +2.23300E-01\\n\n",
       "1    0.142398             0.000095    +2.00500E-01\\n    +2.23800E-01\\n\n",
       "2    0.168497             0.000096    +2.00500E-01\\n    +2.23800E-01\\n\n",
       "3    0.195467             0.000095    +2.00400E-01\\n    +2.23800E-01\\n\n",
       "4    0.243494             0.000095    +2.00400E-01\\n    +2.23800E-01\\n\n",
       "..        ...                  ...               ...               ...\n",
       "156  4.877215             0.000096    +2.00400E-01\\n    +2.08800E-01\\n\n",
       "157  4.905253             0.000096    +2.00500E-01\\n    +2.08800E-01\\n\n",
       "158  4.930316             0.000095    +2.00500E-01\\n    +2.08800E-01\\n\n",
       "159  4.976305             0.000095    +2.00500E-01\\n    +2.08800E-01\\n\n",
       "160  5.005235             0.000095    +2.00500E-01\\n    +2.08800E-01\\n\n",
       "\n",
       "[161 rows x 4 columns]"
      ]
     },
     "execution_count": 11,
     "metadata": {},
     "output_type": "execute_result"
    }
   ],
   "source": [
    "columns = [\"Time[s]\",\"Measured_Voltage[V]\",\"Supply_Current[A]\",\"Supply_Voltage[V]\"]\n",
    "df_voltage = pd.DataFrame(columns=columns)\n",
    "\n",
    "position = 0\n",
    "read_time = 5 # sec\n",
    "freq = 0.001\n",
    "df_voltage = df_add_read_data(df_voltage,dmm,pmx32,read_time,freq)\n",
    "df_voltage"
   ]
  },
  {
   "cell_type": "code",
   "execution_count": 12,
   "metadata": {},
   "outputs": [],
   "source": [
    "out_put_off(pmx32,2)\n",
    "out_put_off(pmx32,3)"
   ]
  },
  {
   "cell_type": "code",
   "execution_count": null,
   "metadata": {},
   "outputs": [],
   "source": []
  }
 ],
 "metadata": {
  "kernelspec": {
   "display_name": "Python 3",
   "language": "python",
   "name": "python3"
  },
  "language_info": {
   "codemirror_mode": {
    "name": "ipython",
    "version": 3
   },
   "file_extension": ".py",
   "mimetype": "text/x-python",
   "name": "python",
   "nbconvert_exporter": "python",
   "pygments_lexer": "ipython3",
   "version": "3.11.9"
  }
 },
 "nbformat": 4,
 "nbformat_minor": 2
}
