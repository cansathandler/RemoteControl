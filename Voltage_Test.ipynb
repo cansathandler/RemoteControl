{
 "cells": [
  {
   "attachments": {},
   "cell_type": "markdown",
   "metadata": {},
   "source": [
    "## RND DC power supply setting\n",
    "#### voltage range: 10 mV current range: 1 mA Baund rage: 9600"
   ]
  },
  {
   "cell_type": "code",
   "execution_count": 1,
   "metadata": {},
   "outputs": [
    {
     "data": {
      "text/plain": [
       "('USB0::0x0B3E::0x102C::ES000390::INSTR',)"
      ]
     },
     "execution_count": 1,
     "metadata": {},
     "output_type": "execute_result"
    }
   ],
   "source": [
    "import pyvisa\n",
    "import time\n",
    "import schedule\n",
    "#Create Resource manager instance\n",
    "rm= pyvisa.ResourceManager()\n",
    "#Check the VISA device\n",
    "rm.list_resources()"
   ]
  },
  {
   "cell_type": "code",
   "execution_count": 2,
   "metadata": {},
   "outputs": [
    {
     "name": "stdout",
     "output_type": "stream",
     "text": [
      "KIKUSUI,PMX32-2QU,ES000390,VER01.04 BLD0035\n",
      "\n"
     ]
    }
   ],
   "source": [
    "# Start the communication by VISA identifying resource name\n",
    "rnd = rm.open_resource('USB0::0x0B3E::0x102C::ES000390::INSTR')\n",
    "\n",
    "#Checking the machine name\n",
    "print(rnd.query('*IDN?'))"
   ]
  },
  {
   "attachments": {},
   "cell_type": "markdown",
   "metadata": {},
   "source": [
    "### Voltage, Current Setting"
   ]
  },
  {
   "cell_type": "code",
   "execution_count": 3,
   "metadata": {},
   "outputs": [
    {
     "data": {
      "text/plain": [
       "11"
      ]
     },
     "execution_count": 3,
     "metadata": {},
     "output_type": "execute_result"
    }
   ],
   "source": [
    "#表示桁は6桁なので1PLC→0.02sでマルチメータの値が更新される\n",
    "rnd.write(\"ISET1:0.22\") #set ch1 output current 0.01A\n",
    "rnd.write(\"VSET1:5.0\") #set ch1 output voltage 5.0 V"
   ]
  },
  {
   "attachments": {},
   "cell_type": "markdown",
   "metadata": {},
   "source": [
    "### Definition of Stabilized Power Supply Operating Functions"
   ]
  },
  {
   "cell_type": "code",
   "execution_count": 4,
   "metadata": {},
   "outputs": [],
   "source": [
    "#通信インスタンスとチャンネルと電圧と電流を指定して出力オン\n",
    "def out_put_on(sps,ch,vol,cur):\n",
    "    sps.write(\"VSET\"+str(ch)+\":\"+str(vol)) #set ch1 output current 0.01V\n",
    "    sps.write(\"ISET\"+str(ch)+\":\"+str(cur)) #set ch1 output current 0.01A\n",
    "    sps.write(\"OUT1\")\n",
    "\n",
    "def out_put_on_only_V(sps,ch,vol):\n",
    "    sps.write(\"VSET\"+str(ch)+\":\"+str(vol)) #set ch1 output current 0.01V\n",
    "    sps.write(\"ISET\"+str(ch)+\":0\") #set ch1 output current 0A\n",
    "    sps.write(\"OUT1\")\n",
    "\n",
    "#通信インスタンスとチャンネル番号を指定して出力オフ\n",
    "def out_put_off(sps,ch):\n",
    "    sps.write(\"VSET\"+str(ch)+\":0\") \n",
    "    sps.write(\"ISET\"+str(ch)+\":0\") \n",
    "    sps.write(\"OUT1\")\n",
    "\n",
    "def out_put_off_all(sps):\n",
    "    sps.write(\"VSET1:0\") \n",
    "    sps.write(\"ISET1:0\") \n",
    "    sps.write(\"VSET2:0\") \n",
    "    sps.write(\"ISET2:0\") \n",
    "    sps.write(\"OUT1\")"
   ]
  },
  {
   "attachments": {},
   "cell_type": "markdown",
   "metadata": {},
   "source": [
    "### Voltage Input"
   ]
  },
  {
   "cell_type": "code",
   "execution_count": 5,
   "metadata": {},
   "outputs": [],
   "source": [
    "# #DCDC converter input active voltage(channel 1)\n",
    "# out_put_on(rnd,1,1,0.1)\n",
    "\n",
    "# #DCDC converter input active voltage(channel 2)\n",
    "# out_put_on(rnd,2,1,0.1)\n",
    "\n",
    "# #すべての電源オフ\n",
    "# out_put_off_all(rnd)"
   ]
  },
  {
   "attachments": {},
   "cell_type": "markdown",
   "metadata": {},
   "source": [
    "### Programming output"
   ]
  },
  {
   "cell_type": "code",
   "execution_count": 6,
   "metadata": {},
   "outputs": [],
   "source": [
    "# cnt = 0\n",
    "# while cnt < 10:\n",
    "#     #DCDCコンバータの動作電圧印加(チャンネル1)\n",
    "#     out_put_on(rnd,1,2,0.1)\n",
    "\n",
    "#     #圧力センサの動作電圧印加(チャンネル2)\n",
    "#     out_put_on(rnd,2,5,0.1)\n",
    "    \n",
    "#     time.sleep(0.2)\n",
    "\n",
    "#     #DCDCコンバータの動作電圧印加(チャンネル1)\n",
    "#     out_put_on(rnd,1,5,0.1)\n",
    "\n",
    "#     #圧力センサの動作電圧印加(チャンネル2)\n",
    "#     out_put_on(rnd,2,2,0.1)\n",
    "\n",
    "#     time.sleep(0.2)\n",
    "#     cnt += 1\n",
    "\n",
    "# out_put_off_all(rnd)"
   ]
  },
  {
   "cell_type": "markdown",
   "metadata": {},
   "source": [
    "### High Voltage Amp"
   ]
  },
  {
   "cell_type": "code",
   "execution_count": 6,
   "metadata": {},
   "outputs": [],
   "source": [
    "max_current = 0.1\n",
    "# #DCDC converter input active voltage(channel 1)\n",
    "out_put_on(rnd,1,12,max_current)\n",
    "# #DCDC converter input active voltage(channel 2)\n",
    "out_put_on(rnd,2,1,max_current)\n"
   ]
  },
  {
   "cell_type": "markdown",
   "metadata": {},
   "source": [
    "### IEAP"
   ]
  },
  {
   "cell_type": "code",
   "execution_count": 10,
   "metadata": {},
   "outputs": [],
   "source": [
    "max_current = 0.1\n",
    "# #DCDC converter input active voltage(channel 1)\n",
    "out_put_on(rnd,1,3.0,max_current)"
   ]
  },
  {
   "cell_type": "markdown",
   "metadata": {},
   "source": [
    "### Stepper motor"
   ]
  },
  {
   "cell_type": "code",
   "execution_count": 9,
   "metadata": {},
   "outputs": [],
   "source": [
    "max_current = 1.6\n",
    "# #DCDC converter input active voltage(channel 1)\n",
    "out_put_on(rnd,1,8,max_current)"
   ]
  },
  {
   "cell_type": "code",
   "execution_count": 15,
   "metadata": {},
   "outputs": [],
   "source": [
    "out_put_off_all(rnd)"
   ]
  },
  {
   "cell_type": "code",
   "execution_count": null,
   "metadata": {},
   "outputs": [],
   "source": []
  },
  {
   "cell_type": "code",
   "execution_count": null,
   "metadata": {},
   "outputs": [],
   "source": []
  },
  {
   "cell_type": "markdown",
   "metadata": {},
   "source": [
    "## KIKUSUI DC power supply setting"
   ]
  },
  {
   "cell_type": "code",
   "execution_count": 11,
   "metadata": {},
   "outputs": [
    {
     "data": {
      "text/plain": [
       "('USB0::0x0B3E::0x102C::ES000390::INSTR',)"
      ]
     },
     "execution_count": 11,
     "metadata": {},
     "output_type": "execute_result"
    }
   ],
   "source": [
    "import pyvisa\n",
    "import time\n",
    "import schedule\n",
    "#Create Resource manager instance\n",
    "rm= pyvisa.ResourceManager()\n",
    "#Check the VISA device\n",
    "rm.list_resources()"
   ]
  },
  {
   "cell_type": "code",
   "execution_count": 15,
   "metadata": {},
   "outputs": [
    {
     "name": "stdout",
     "output_type": "stream",
     "text": [
      "KIKUSUI,PMX32-2QU,ES000390,VER01.04 BLD0035\n",
      "\n"
     ]
    }
   ],
   "source": [
    "# Start the communication by VISA identifying resource name\n",
    "pmx32 = rm.open_resource('USB0::0x0B3E::0x102C::ES000390::INSTR')\n",
    "\n",
    "#Checking the machine name\n",
    "print(pmx32.query('*IDN?'))"
   ]
  },
  {
   "cell_type": "markdown",
   "metadata": {},
   "source": [
    "### definition of function"
   ]
  },
  {
   "cell_type": "code",
   "execution_count": 16,
   "metadata": {},
   "outputs": [],
   "source": [
    "#通信インスタンスとチャンネルと電圧と電流を指定して出力オン\n",
    "def out_put_on(sps,ch,vol,cur):\n",
    "    sps.write(\"INST \" + str(ch) + \";*OPC?\")\n",
    "    sps.write(\"VOLTage \" + str(vol) + \";OPC?\")\n",
    "    sps.write(\"CURRent \" + str(cur) +\";OPC?\")\n",
    "    sps.write(\"OUTPut ON;OPC?\")\n",
    "    sps.write(\"INST:UNS \" + str(ch) + \"; *OPC?\")\n",
    "\n",
    "def out_put_on_only_V(sps,ch,vol):\n",
    "    sps.write(\"INST \" + str(ch) + \";*OPC?\")\n",
    "    sps.write(\"VOLTage \" + str(vol) + \";OPC?\")\n",
    "    sps.write(\"OUTPut ON;OPC?\")\n",
    "    sps.write(\"INST:UNS \" + str(ch) + \"; *OPC?\")\n",
    "\n",
    "#通信インスタンスとチャンネル番号を指定して出力オフ\n",
    "def out_put_off(sps,ch):\n",
    "    sps.write(\"INST \" + str(ch))\n",
    "    sps.write(\"OUTPut OFF; *OPC?\")\n",
    "    sps.write(\"INST:UNS \" + str(ch) + \"; *OPC?\")"
   ]
  },
  {
   "cell_type": "code",
   "execution_count": 17,
   "metadata": {},
   "outputs": [],
   "source": [
    "#DCDCコンバータの動作電圧印加(チャンネル3)\n",
    "out_put_on(pmx32,1,24,1.2)"
   ]
  },
  {
   "cell_type": "code",
   "execution_count": 18,
   "metadata": {},
   "outputs": [
    {
     "data": {
      "text/plain": [
       "12"
      ]
     },
     "execution_count": 18,
     "metadata": {},
     "output_type": "execute_result"
    }
   ],
   "source": [
    "#すべての電源オフ\n",
    "pmx32.write(\"OUTPUT:ALL\")"
   ]
  },
  {
   "cell_type": "code",
   "execution_count": null,
   "metadata": {},
   "outputs": [],
   "source": []
  }
 ],
 "metadata": {
  "kernelspec": {
   "display_name": "Python 3",
   "language": "python",
   "name": "python3"
  },
  "language_info": {
   "codemirror_mode": {
    "name": "ipython",
    "version": 3
   },
   "file_extension": ".py",
   "mimetype": "text/x-python",
   "name": "python",
   "nbconvert_exporter": "python",
   "pygments_lexer": "ipython3",
   "version": "3.11.9"
  },
  "orig_nbformat": 4
 },
 "nbformat": 4,
 "nbformat_minor": 2
}
